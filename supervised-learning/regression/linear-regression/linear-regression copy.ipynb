{
 "cells": [
  {
   "cell_type": "code",
   "execution_count": 15,
   "metadata": {},
   "outputs": [
    {
     "data": {
      "text/html": [
       "<div>\n",
       "<style scoped>\n",
       "    .dataframe tbody tr th:only-of-type {\n",
       "        vertical-align: middle;\n",
       "    }\n",
       "\n",
       "    .dataframe tbody tr th {\n",
       "        vertical-align: top;\n",
       "    }\n",
       "\n",
       "    .dataframe thead th {\n",
       "        text-align: right;\n",
       "    }\n",
       "</style>\n",
       "<table border=\"1\" class=\"dataframe\">\n",
       "  <thead>\n",
       "    <tr style=\"text-align: right;\">\n",
       "      <th></th>\n",
       "      <th>X</th>\n",
       "      <th>Y</th>\n",
       "      <th>Z</th>\n",
       "    </tr>\n",
       "  </thead>\n",
       "  <tbody>\n",
       "    <tr>\n",
       "      <th>0</th>\n",
       "      <td>0.014579</td>\n",
       "      <td>-0.014945</td>\n",
       "      <td>1.007415</td>\n",
       "    </tr>\n",
       "    <tr>\n",
       "      <th>1</th>\n",
       "      <td>0.014091</td>\n",
       "      <td>0.001891</td>\n",
       "      <td>1.008879</td>\n",
       "    </tr>\n",
       "    <tr>\n",
       "      <th>2</th>\n",
       "      <td>0.014823</td>\n",
       "      <td>0.000183</td>\n",
       "      <td>1.011807</td>\n",
       "    </tr>\n",
       "    <tr>\n",
       "      <th>3</th>\n",
       "      <td>0.014091</td>\n",
       "      <td>0.001159</td>\n",
       "      <td>1.011807</td>\n",
       "    </tr>\n",
       "    <tr>\n",
       "      <th>4</th>\n",
       "      <td>0.014579</td>\n",
       "      <td>-0.012749</td>\n",
       "      <td>1.001071</td>\n",
       "    </tr>\n",
       "    <tr>\n",
       "      <th>...</th>\n",
       "      <td>...</td>\n",
       "      <td>...</td>\n",
       "      <td>...</td>\n",
       "    </tr>\n",
       "    <tr>\n",
       "      <th>95</th>\n",
       "      <td>0.015799</td>\n",
       "      <td>0.000183</td>\n",
       "      <td>1.010587</td>\n",
       "    </tr>\n",
       "    <tr>\n",
       "      <th>96</th>\n",
       "      <td>0.013847</td>\n",
       "      <td>0.000427</td>\n",
       "      <td>1.011319</td>\n",
       "    </tr>\n",
       "    <tr>\n",
       "      <th>97</th>\n",
       "      <td>0.016043</td>\n",
       "      <td>0.000427</td>\n",
       "      <td>1.012295</td>\n",
       "    </tr>\n",
       "    <tr>\n",
       "      <th>98</th>\n",
       "      <td>0.014823</td>\n",
       "      <td>-0.000793</td>\n",
       "      <td>1.010587</td>\n",
       "    </tr>\n",
       "    <tr>\n",
       "      <th>99</th>\n",
       "      <td>0.014823</td>\n",
       "      <td>0.000183</td>\n",
       "      <td>1.013027</td>\n",
       "    </tr>\n",
       "  </tbody>\n",
       "</table>\n",
       "<p>100 rows × 3 columns</p>\n",
       "</div>"
      ],
      "text/plain": [
       "           X         Y         Z\n",
       "0   0.014579 -0.014945  1.007415\n",
       "1   0.014091  0.001891  1.008879\n",
       "2   0.014823  0.000183  1.011807\n",
       "3   0.014091  0.001159  1.011807\n",
       "4   0.014579 -0.012749  1.001071\n",
       "..       ...       ...       ...\n",
       "95  0.015799  0.000183  1.010587\n",
       "96  0.013847  0.000427  1.011319\n",
       "97  0.016043  0.000427  1.012295\n",
       "98  0.014823 -0.000793  1.010587\n",
       "99  0.014823  0.000183  1.013027\n",
       "\n",
       "[100 rows x 3 columns]"
      ]
     },
     "execution_count": 15,
     "metadata": {},
     "output_type": "execute_result"
    }
   ],
   "source": [
    "import pandas as pd\n",
    "\n",
    "df = pd.read_csv('mobile_data.csv')\n",
    "df"
   ]
  },
  {
   "cell_type": "code",
   "execution_count": 13,
   "metadata": {},
   "outputs": [
    {
     "data": {
      "text/html": [
       "<div>\n",
       "<style scoped>\n",
       "    .dataframe tbody tr th:only-of-type {\n",
       "        vertical-align: middle;\n",
       "    }\n",
       "\n",
       "    .dataframe tbody tr th {\n",
       "        vertical-align: top;\n",
       "    }\n",
       "\n",
       "    .dataframe thead th {\n",
       "        text-align: right;\n",
       "    }\n",
       "</style>\n",
       "<table border=\"1\" class=\"dataframe\">\n",
       "  <thead>\n",
       "    <tr style=\"text-align: right;\">\n",
       "      <th></th>\n",
       "      <th>count</th>\n",
       "      <th>mean</th>\n",
       "      <th>std</th>\n",
       "      <th>min</th>\n",
       "      <th>25%</th>\n",
       "      <th>50%</th>\n",
       "      <th>75%</th>\n",
       "      <th>max</th>\n",
       "    </tr>\n",
       "  </thead>\n",
       "  <tbody>\n",
       "    <tr>\n",
       "      <th>X</th>\n",
       "      <td>100.0</td>\n",
       "      <td>0.015401</td>\n",
       "      <td>0.001792</td>\n",
       "      <td>0.005063</td>\n",
       "      <td>0.014823</td>\n",
       "      <td>0.015311</td>\n",
       "      <td>0.015799</td>\n",
       "      <td>0.025315</td>\n",
       "    </tr>\n",
       "    <tr>\n",
       "      <th>Y</th>\n",
       "      <td>100.0</td>\n",
       "      <td>0.000122</td>\n",
       "      <td>0.005090</td>\n",
       "      <td>-0.032025</td>\n",
       "      <td>-0.000061</td>\n",
       "      <td>0.000427</td>\n",
       "      <td>0.000671</td>\n",
       "      <td>0.033154</td>\n",
       "    </tr>\n",
       "    <tr>\n",
       "      <th>Z</th>\n",
       "      <td>100.0</td>\n",
       "      <td>1.009540</td>\n",
       "      <td>0.004017</td>\n",
       "      <td>1.001071</td>\n",
       "      <td>1.007415</td>\n",
       "      <td>1.009367</td>\n",
       "      <td>1.011319</td>\n",
       "      <td>1.032547</td>\n",
       "    </tr>\n",
       "  </tbody>\n",
       "</table>\n",
       "</div>"
      ],
      "text/plain": [
       "   count      mean       std       min       25%       50%       75%       max\n",
       "X  100.0  0.015401  0.001792  0.005063  0.014823  0.015311  0.015799  0.025315\n",
       "Y  100.0  0.000122  0.005090 -0.032025 -0.000061  0.000427  0.000671  0.033154\n",
       "Z  100.0  1.009540  0.004017  1.001071  1.007415  1.009367  1.011319  1.032547"
      ]
     },
     "execution_count": 13,
     "metadata": {},
     "output_type": "execute_result"
    }
   ],
   "source": [
    "df.describe().T"
   ]
  },
  {
   "cell_type": "code",
   "execution_count": 14,
   "metadata": {},
   "outputs": [
    {
     "data": {
      "text/plain": [
       "<seaborn.axisgrid.PairGrid at 0x164033c90>"
      ]
     },
     "execution_count": 14,
     "metadata": {},
     "output_type": "execute_result"
    },
    {
     "data": {
      "image/png": "[encoded data removed]",
      "text/plain": [
       "<Figure size 750x750 with 12 Axes>"
      ]
     },
     "metadata": {},
     "output_type": "display_data"
    }
   ],
   "source": [
    "import seaborn as sns\n",
    "sns.pairplot(df)"
   ]
  },
  {
   "cell_type": "code",
   "execution_count": 16,
   "metadata": {},
   "outputs": [],
   "source": [
    "from sklearn.model_selection import train_test_split\n",
    "from sklearn.linear_model import LinearRegression \n",
    "from sklearn.metrics import mean_squared_error"
   ]
  },
  {
   "cell_type": "code",
   "execution_count": 21,
   "metadata": {},
   "outputs": [
    {
     "name": "stdout",
     "output_type": "stream",
     "text": [
      "[1.00851556 1.00923072 1.01030346 1.0097584  1.01066104 1.00914567\n",
      " 1.00832808 1.00938344 1.00812322 1.00895819 1.00938344 1.00895819\n",
      " 1.00849818 1.00923072 1.00929839 1.00967335 1.0094182  1.01003093\n",
      " 1.00812322 1.00902586]\n",
      "1.1142324486224165e-05\n"
     ]
    }
   ],
   "source": [
    "X_train,X_test,y_train,y_test = train_test_split(df[['X','Y']],df['Z'],test_size=0.2,random_state=102)\n",
    "reg = LinearRegression()\n",
    "reg.fit(X_train,y_train)\n",
    "\n",
    "y_pred = reg.predict(X_test)\n",
    "print(y_pred)\n",
    "\n",
    "mse = mean_squared_error(y_test,y_pred)\n",
    "print(mse)"
   ]
  },
  {
   "cell_type": "code",
   "execution_count": 20,
   "metadata": {},
   "outputs": [
    {
     "data": {
      "text/html": [
       "<div>\n",
       "<style scoped>\n",
       "    .dataframe tbody tr th:only-of-type {\n",
       "        vertical-align: middle;\n",
       "    }\n",
       "\n",
       "    .dataframe tbody tr th {\n",
       "        vertical-align: top;\n",
       "    }\n",
       "\n",
       "    .dataframe thead th {\n",
       "        text-align: right;\n",
       "    }\n",
       "</style>\n",
       "<table border=\"1\" class=\"dataframe\">\n",
       "  <thead>\n",
       "    <tr style=\"text-align: right;\">\n",
       "      <th></th>\n",
       "      <th>X</th>\n",
       "      <th>Y</th>\n",
       "    </tr>\n",
       "  </thead>\n",
       "  <tbody>\n",
       "    <tr>\n",
       "      <th>0</th>\n",
       "      <td>0.014579</td>\n",
       "      <td>-0.014945</td>\n",
       "    </tr>\n",
       "    <tr>\n",
       "      <th>1</th>\n",
       "      <td>0.014091</td>\n",
       "      <td>0.001891</td>\n",
       "    </tr>\n",
       "    <tr>\n",
       "      <th>2</th>\n",
       "      <td>0.014823</td>\n",
       "      <td>0.000183</td>\n",
       "    </tr>\n",
       "    <tr>\n",
       "      <th>3</th>\n",
       "      <td>0.014091</td>\n",
       "      <td>0.001159</td>\n",
       "    </tr>\n",
       "    <tr>\n",
       "      <th>4</th>\n",
       "      <td>0.014579</td>\n",
       "      <td>-0.012749</td>\n",
       "    </tr>\n",
       "    <tr>\n",
       "      <th>...</th>\n",
       "      <td>...</td>\n",
       "      <td>...</td>\n",
       "    </tr>\n",
       "    <tr>\n",
       "      <th>95</th>\n",
       "      <td>0.015799</td>\n",
       "      <td>0.000183</td>\n",
       "    </tr>\n",
       "    <tr>\n",
       "      <th>96</th>\n",
       "      <td>0.013847</td>\n",
       "      <td>0.000427</td>\n",
       "    </tr>\n",
       "    <tr>\n",
       "      <th>97</th>\n",
       "      <td>0.016043</td>\n",
       "      <td>0.000427</td>\n",
       "    </tr>\n",
       "    <tr>\n",
       "      <th>98</th>\n",
       "      <td>0.014823</td>\n",
       "      <td>-0.000793</td>\n",
       "    </tr>\n",
       "    <tr>\n",
       "      <th>99</th>\n",
       "      <td>0.014823</td>\n",
       "      <td>0.000183</td>\n",
       "    </tr>\n",
       "  </tbody>\n",
       "</table>\n",
       "<p>100 rows × 2 columns</p>\n",
       "</div>"
      ],
      "text/plain": [
       "           X         Y\n",
       "0   0.014579 -0.014945\n",
       "1   0.014091  0.001891\n",
       "2   0.014823  0.000183\n",
       "3   0.014091  0.001159\n",
       "4   0.014579 -0.012749\n",
       "..       ...       ...\n",
       "95  0.015799  0.000183\n",
       "96  0.013847  0.000427\n",
       "97  0.016043  0.000427\n",
       "98  0.014823 -0.000793\n",
       "99  0.014823  0.000183\n",
       "\n",
       "[100 rows x 2 columns]"
      ]
     },
     "execution_count": 20,
     "metadata": {},
     "output_type": "execute_result"
    }
   ],
   "source": [
    "df[['X','Y']]"
   ]
  },
  {
   "cell_type": "code",
   "execution_count": 26,
   "metadata": {},
   "outputs": [
    {
     "name": "stdout",
     "output_type": "stream",
     "text": [
      "           X         Y\n",
      "98  0.014823 -0.000793\n",
      "46  0.015311 -0.000305\n",
      "97  0.016043  0.000427\n",
      "21  0.015555  0.000427\n",
      "44  0.016287  0.000671\n",
      "33  0.015311 -0.000549\n",
      "75  0.014579 -0.000549\n",
      "65  0.015067  0.000915\n",
      "83  0.014091  0.000427\n",
      "15  0.015067 -0.000305\n",
      "51  0.015067  0.000915\n",
      "26  0.015067 -0.000305\n",
      "52  0.014579 -0.000061\n",
      "61  0.015311 -0.000305\n",
      "11  0.015067  0.000671\n",
      "58  0.015555  0.000183\n",
      "94  0.015555 -0.000549\n",
      "29  0.015799  0.000427\n",
      "48  0.014091  0.000427\n",
      "57  0.014823  0.000671\n"
     ]
    }
   ],
   "source": [
    "print(X_test)"
   ]
  },
  {
   "cell_type": "code",
   "execution_count": null,
   "metadata": {},
   "outputs": [],
   "source": []
  }
 ],
 "metadata": {
  "kernelspec": {
   "display_name": "Python 3 (ipykernel)",
   "language": "python",
   "name": "python3"
  },
  "language_info": {
   "codemirror_mode": {
    "name": "ipython",
    "version": 3
   },
   "file_extension": ".py",
   "mimetype": "text/x-python",
   "name": "python",
   "nbconvert_exporter": "python",
   "pygments_lexer": "ipython3",
   "version": "3.12.4"
  }
 },
 "nbformat": 4,
 "nbformat_minor": 4
}
